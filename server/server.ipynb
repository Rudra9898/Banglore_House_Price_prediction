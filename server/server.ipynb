{
 "cells": [
  {
   "cell_type": "code",
   "execution_count": 2,
   "id": "26684a1c",
   "metadata": {},
   "outputs": [
    {
     "name": "stdout",
     "output_type": "stream",
     "text": [
      "Starting Python Flask Server For Home Price Prediction\n",
      "loading saved artifacts...start\n",
      "loading saved artifacts...done\n",
      " * Serving Flask app \"__main__\" (lazy loading)\n",
      " * Environment: production\n",
      "\u001b[31m   WARNING: This is a development server. Do not use it in a production deployment.\u001b[0m\n",
      "\u001b[2m   Use a production WSGI server instead.\u001b[0m\n",
      " * Debug mode: off\n"
     ]
    },
    {
     "name": "stderr",
     "output_type": "stream",
     "text": [
      " * Running on http://127.0.0.1:5000/ (Press CTRL+C to quit)\n",
      "127.0.0.1 - - [02/Nov/2024 13:02:21] \"GET / HTTP/1.1\" 404 -\n",
      "127.0.0.1 - - [02/Nov/2024 13:02:21] \"GET /favicon.ico HTTP/1.1\" 404 -\n",
      "127.0.0.1 - - [02/Nov/2024 13:02:36] \"GET /predict_home_price HTTP/1.1\" 405 -\n",
      "127.0.0.1 - - [02/Nov/2024 13:03:28] \"GET /get_location_names HTTP/1.1\" 200 -\n",
      "127.0.0.1 - - [02/Nov/2024 13:04:26] \"GET /get_location_names/predict_home_price HTTP/1.1\" 404 -\n",
      "127.0.0.1 - - [02/Nov/2024 13:04:39] \"GET /predict_home_price HTTP/1.1\" 405 -\n"
     ]
    }
   ],
   "source": [
    "from flask import Flask,request,jsonify\n",
    "import util\n",
    "app = Flask(__name__)\n",
    "\n",
    "@app.route('/get_location_names')\n",
    "def get_location_names():\n",
    "    response = jsonify({\n",
    "    'locations': util.get_location_names()\n",
    "    })\n",
    "    response.headers.add('Access-Control-Allow-Origin','*')\n",
    "    return response\n",
    "\n",
    "@app.route('/predict_home_price', methods=['POST'])\n",
    "def predict_home_price():\n",
    "    total_sqft=float(request.form['total_sqft'])\n",
    "    location=request.form['location']\n",
    "    bhk=int(request.form['bhk'])\n",
    "    bath=int(request.form['bath'])\n",
    "\n",
    "    response = jsonify({\n",
    "        'estimated_price': util.get_estimated_price(location, total_sqft,bath,bhk)\n",
    "    })\n",
    "    response.headers.add('Access-Control-Allow-Origin', '*')\n",
    "\n",
    "    return response\n",
    "\n",
    "\n",
    "if __name__ == \"__main__\":\n",
    "    print('Starting Python Flask Server For Home Price Prediction')\n",
    "    util.load_saved_artifacts()\n",
    "    app.run()"
   ]
  },
  {
   "cell_type": "code",
   "execution_count": null,
   "id": "6bb01fae",
   "metadata": {},
   "outputs": [],
   "source": []
  }
 ],
 "metadata": {
  "kernelspec": {
   "display_name": "Python 3 (ipykernel)",
   "language": "python",
   "name": "python3"
  },
  "language_info": {
   "codemirror_mode": {
    "name": "ipython",
    "version": 3
   },
   "file_extension": ".py",
   "mimetype": "text/x-python",
   "name": "python",
   "nbconvert_exporter": "python",
   "pygments_lexer": "ipython3",
   "version": "3.9.12"
  }
 },
 "nbformat": 4,
 "nbformat_minor": 5
}
