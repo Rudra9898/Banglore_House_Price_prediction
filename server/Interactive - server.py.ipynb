{
 "cells": [
  {
   "cell_type": "markdown",
   "metadata": {},
   "source": [
    "Connected to base (Python 3.9.12)"
   ]
  },
  {
   "cell_type": "code",
   "execution_count": null,
   "id": "ce290739-3b09-4808-ae90-155a7072fa0a",
   "metadata": {},
   "outputs": [
    {
     "data": {
      "text/plain": [
       "Traceback (most recent call last):\n",
       "  File \"c:\\Users\\hp\\.vscode\\extensions\\ms-python.python-2024.18.0-win32-x64\\python_files\\python_server.py\", line 130, in exec_user_input\n",
       "    retval = callable_(user_input, user_globals)\n",
       "  File \"<string>\", line 2, in <module>\n",
       "ModuleNotFoundError: No module named 'util'\n",
       "\n"
      ]
     },
     "metadata": {},
     "output_type": "display_data"
    }
   ],
   "source": [
    "from flask import Flask,request,jsonify\n",
    "import util\n",
    "app = Flask(__name__)\n",
    "\n",
    "@app.route('/get_location_names')\n",
    "def get_location_names():\n",
    "    response = jsonify({\n",
    "    'locations': util.get_location_names()\n",
    "    })\n",
    "    response.headers.add('Access-Control-Allow-Origin','*')\n",
    "    return response\n",
    "\n",
    "@app.route('/predict_home_price', methods=['POST'])\n",
    "def predict_home_price():\n",
    "    total_sqft=float(request.form['total_sqft'])\n",
    "    location=request.form['location']\n",
    "    bhk=int(request.form['bhk'])\n",
    "    bath=int(request.form['bath'])\n",
    "\n",
    "    response = jsonify({\n",
    "        'estimated_price': util.get_estimated_price(location, total_sqft,bath,bhk)\n",
    "    })\n",
    "    response.headers.add('Access-Control-Allow-Origin', '*')\n",
    "\n",
    "    return response\n",
    "\n",
    "\n",
    "if __name__ == \"__main__\":\n",
    "    print('Starting Python Flask Server For Home Price Prediction')\n",
    "    util.load_saved_artifacts()\n",
    "    app.run()"
   ]
  }
 ],
 "metadata": {
  "kernelspec": {
   "display_name": "base",
   "language": "python",
   "name": "python3"
  },
  "language_info": {
   "name": "python",
   "version": "3.9.12"
  }
 },
 "nbformat": 4,
 "nbformat_minor": 2
}
