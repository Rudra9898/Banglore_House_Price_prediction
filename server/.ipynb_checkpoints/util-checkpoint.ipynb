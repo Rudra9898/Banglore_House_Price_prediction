{
 "cells": [
  {
   "cell_type": "code",
   "execution_count": 1,
   "id": "6fdd03d5",
   "metadata": {},
   "outputs": [
    {
     "name": "stderr",
     "output_type": "stream",
     "text": [
      "C:\\Users\\hp\\anaconda3\\lib\\site-packages\\numpy\\_distributor_init.py:30: UserWarning: loaded more than 1 DLL from .libs:\n",
      "C:\\Users\\hp\\anaconda3\\lib\\site-packages\\numpy\\.libs\\libopenblas.EL2C6PLE4ZYW3ECEVIV3OXXGRN2NRFM2.gfortran-win_amd64.dll\n",
      "C:\\Users\\hp\\anaconda3\\lib\\site-packages\\numpy\\.libs\\libopenblas.WCDJNK7YVMPZQ2ME2ZZHJJRJ3JIKNDB7.gfortran-win_amd64.dll\n",
      "  warnings.warn(\"loaded more than 1 DLL from .libs:\"\n"
     ]
    },
    {
     "name": "stdout",
     "output_type": "stream",
     "text": [
      "loading saved artifacts...start\n",
      "loading saved artifacts...done\n",
      "['Electronic City Phase II', 'Uttarahalli', 'Lingadheeranahalli', 'Kothanur', 'Old Airport Road', 'Rajaji Nagar', 'other', 'Whitefield', '7th Phase JP Nagar', 'Gottigere', 'Sarjapur', 'Mysore Road', 'Bisuvanahalli', 'Kengeri', 'Binny Pete', 'Thanisandra', 'Bellandur', 'Ramagondanahalli', 'Electronic City', 'Yelahanka', 'Hebbal', 'Kasturi Nagar', 'Kundalahalli', 'Murugeshpalya', 'Ganga Nagar', 'Kanakpura Road', 'HSR Layout', 'Doddathoguru', 'KR Puram', 'Lakshminarayana Pura', 'Begur Road', 'Varthur', 'Bommanahalli', 'Gunjur', 'Marathahalli', 'Devarachikkanahalli', 'Hegde Nagar', 'Haralur Road', 'Hennur Road', 'Kothannur', 'Kalena Agrahara', 'Kaval Byrasandra', 'ISRO Layout', 'Garudachar Palya', 'Dasanapura', 'Kasavanhalli', 'Sanjay nagar', 'Domlur', 'Sarjapura - Attibele Road', 'Chandapura', 'Devanahalli', 'Ramamurthy Nagar', 'Sarjapur  Road', 'Malleshwaram', 'Akshaya Nagar', 'Shampura', 'Kadugodi', 'Hormavu', 'Vishwapriya Layout', 'Kudlu Gate', '8th Phase JP Nagar', 'Bommasandra Industrial Area', 'Anandapura', 'Vishveshwarya Layout', 'Kengeri Satellite Town', 'Kannamangala', 'Hulimavu', 'Mahalakshmi Layout', 'Hosa Road', 'Attibele', 'Kumaraswami Layout', 'Nagavara', 'Hebbal Kempapura', 'Pattandur Agrahara', 'Nagasandra', 'EPIP Zone', 'Kogilu', 'Panathur', '1st Block Jayanagar', 'Kammasandra', 'Electronics City Phase 1', 'Dasarahalli', 'Magadi Road', 'Dommasandra', 'Kalyan nagar', 'OMBR Layout', 'Horamavu Agara', 'Ambedkar Nagar', 'Raja Rajeshwari Nagar', 'Budigere', 'Talaghattapura', 'Balagere', 'Gollarapalya Hosahalli', 'Old Madras Road', 'Kaggadasapura', '9th Phase JP Nagar', 'Jakkur', 'TC Palaya', 'Giri Nagar', 'Singasandra', 'Vijayanagar', 'AECS Layout', 'Mallasandra', 'JP Nagar', 'Malleshpalya', 'Munnekollal', '6th Phase JP Nagar', 'Ulsoor', 'Basaveshwara Nagar', 'Bommasandra', 'Ardendale', 'Harlur', 'Kodihalli', 'Narayanapura', 'Bannerghatta Road', 'Hennur', '5th Phase JP Nagar', 'Kodigehaali', 'Mahadevpura', 'Sompura', 'Dodda Nekkundi', 'Hosur Road', 'Battarahalli', 'Sultan Palaya', 'Billekahalli', 'Nagarbhavi', 'Ambalipura', 'Hoodi', 'CV Raman Nagar', 'Brookefield', 'Yelenahalli', 'Vittasandra', 'Padmanabhanagar', 'Chikkalasandra', '2nd Stage Nagarbhavi', 'Vidyaranyapura', 'Amruthahalli', 'Koramangala', 'Kodigehalli', 'Subramanyapura', 'Basavangudi', 'Kenchenahalli', 'Banjara Layout', 'Kereguddadahalli', 'Kambipura', 'Rajiv Nagar', 'Arekere', 'Mico Layout', 'Kammanahalli', 'Chikkabanavar', 'HRBR Layout', 'Banashankari Stage III', 'Jigani', 'Nehru Nagar', 'Kanakapura', 'Konanakunte', 'Margondanahalli', 'Tumkur Road', 'Vasanthapura', 'Jalahalli', 'GM Palaya', 'Jalahalli East', 'Hosakerehalli', 'Kodichikkanahalli', 'Varthur Road', 'Anjanapura', 'Abbigere', 'Tindlu', 'Gubbalala', 'Dairy Circle', 'Parappana Agrahara', 'Banashankari', 'Cunningham Road', 'Anekal', 'Kudlu', 'Yeshwanthpur', 'Banashankari Stage VI', 'Kathriguppe', 'HBR Layout', 'Yelahanka New Town', 'Rachenahalli', 'Sadashiva Nagar', 'Green Glen Layout', 'Thubarahalli', 'Naganathapura', 'NGR Layout', 'Sahakara Nagar', 'Seegehalli', 'BEML Layout', 'ITPL', 'Somasundara Palya', 'Indira Nagar', '1st Phase JP Nagar', 'Horamavu Banaswadi', 'Nagappa Reddy Layout', 'BTM 1st Stage', 'Iblur Village', 'Yelachenahalli', 'Ananth Nagar', 'Basapura', 'Sector 1 HSR Layout', 'Choodasandra', 'R.T. Nagar', 'Kaikondrahalli', 'Neeladri Nagar', 'Frazer Town', 'Kaggalipura', 'Cooke Town', 'Doddakallasandra', 'Chamrajpet', 'Rayasandra', 'Kalkere', 'Chikka Tirupathi', '5th Block Hbr Layout', 'Pai Layout', 'Channasandra', 'Banashankari Stage V', 'Begur', 'Benson Town', '2nd Phase Judicial Layout', 'Poorna Pragna Layout', 'Judicial Layout', 'Banashankari Stage II', 'Sector 7 HSR Layout', 'Thigalarapalya', 'Bhoganhalli', 'Marsur', 'Karuna Nagar', 'Bommenahalli', 'Laggere', 'Prithvi Layout', 'Bannerghatta', 'Banaswadi', 'Sector 2 HSR Layout', 'Shivaji Nagar', 'Badavala Nagar', 'NRI Layout', 'Nagavarapalya', 'BTM Layout', 'Sonnenahalli', '1st Block Koramangala', 'Hoskote', 'BTM 2nd Stage', 'Doddaballapur', 'Gunjur Palya', 'Sarakki Nagar', 'Thyagaraja Nagar', 'Bharathi Nagar', 'Cox Town', 'HAL 2nd Stage', 'Babusapalaya', 'LB Shastri Nagar', 'Kadubeesanahalli', 'Nagadevanahalli', 'Dodsworth Layout']\n",
      "[107.41710666]\n",
      "[76.47960846]\n",
      "[89.99847545]\n",
      "[89.99847545]\n"
     ]
    }
   ],
   "source": [
    "import json\n",
    "import pickle\n",
    "import pandas as pd\n",
    "import numpy as np\n",
    "from sklearn.compose import ColumnTransformer\n",
    "from sklearn.preprocessing import StandardScaler, OneHotEncoder\n",
    "from sklearn.pipeline import Pipeline\n",
    "import pandas as pd\n",
    "import numpy as np\n",
    "from sklearn.preprocessing import LabelEncoder\n",
    "\n",
    "\n",
    "__locations = None\n",
    "\n",
    "__data_columns = None\n",
    "\n",
    "__model = None\n",
    "\n",
    "def get_estimated_price(location,sqft,bath,bhk):\n",
    "\n",
    "    df5=pd.read_csv('data.csv')\n",
    "    if location not in __locations:\n",
    "        location = 'other'\n",
    "    new_row = {'location': location, 'total_sqft': sqft, 'bath': bath, 'bhk': bhk}\n",
    "    input_df = pd.concat([df5, pd.DataFrame([new_row])], ignore_index=True)\n",
    "    le = LabelEncoder()\n",
    "    input_df.location=le.fit_transform(input_df.location)\n",
    "    input_df=input_df.values\n",
    "    preprocessor = ColumnTransformer(transformers=[('location', OneHotEncoder(sparse=False), [0])],remainder='passthrough')\n",
    "    input_df_pre = preprocessor.fit_transform(input_df)\n",
    "    scaler1 = StandardScaler(with_mean=False)\n",
    "    new_scaled = scaler1.fit_transform(input_df_pre)\n",
    "    last_row_transformed = new_scaled[-1].reshape(1, -1)\n",
    "\n",
    "    return __model.predict(last_row_transformed)\n",
    "\n",
    "def get_location_names():\n",
    "    return __locations\n",
    "\n",
    "def load_saved_artifacts():\n",
    "    print(\"loading saved artifacts...start\")\n",
    "    global __data_columns\n",
    "    global __locations\n",
    "\n",
    "    with open(\"./artifacts/columns.json\",'r') as f:\n",
    "        __data_columns=json.load(f)['data_columns']\n",
    "        __locations=__data_columns[:-3]\n",
    "    global __model\n",
    "    with open(\"./artifacts/banglore_home_prices_model.pickle\", 'rb') as f:\n",
    "        __model = pickle.load(f)\n",
    "    print(\"loading saved artifacts...done\")\n",
    "\n",
    "if __name__ == '__main__':\n",
    "    load_saved_artifacts()\n",
    "    print(get_location_names())\n",
    "\n",
    "    print(get_estimated_price('1st Phase JP Nagar', 1000, 3, 3))\n",
    "\n",
    "    print(get_estimated_price('1st Phase JP Nagar', 1000, 2, 2))\n",
    "\n",
    "    print(get_estimated_price('Kalhalli', 1000, 2, 2)) # other location\n",
    "\n",
    "    print(get_estimated_price('Ejipura', 1000, 2, 2)) # other location\n"
   ]
  },
  {
   "cell_type": "code",
   "execution_count": null,
   "id": "898de71a",
   "metadata": {},
   "outputs": [],
   "source": []
  }
 ],
 "metadata": {
  "kernelspec": {
   "display_name": "Python 3 (ipykernel)",
   "language": "python",
   "name": "python3"
  },
  "language_info": {
   "codemirror_mode": {
    "name": "ipython",
    "version": 3
   },
   "file_extension": ".py",
   "mimetype": "text/x-python",
   "name": "python",
   "nbconvert_exporter": "python",
   "pygments_lexer": "ipython3",
   "version": "3.9.12"
  }
 },
 "nbformat": 4,
 "nbformat_minor": 5
}
